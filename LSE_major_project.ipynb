{
  "nbformat": 4,
  "nbformat_minor": 0,
  "metadata": {
    "colab": {
      "provenance": []
    },
    "kernelspec": {
      "name": "python3",
      "display_name": "Python 3"
    },
    "language_info": {
      "name": "python"
    }
  },
  "cells": [
    {
      "cell_type": "code",
      "source": [
        "import cv2\n",
        "import numpy as np\n",
        "\n",
        "def calculate_lip_sync_error(original_video_path, wav2lip_video_path):\n",
        "\n",
        "\n",
        "    #  original video\n",
        "    original_video = cv2.VideoCapture(original_video_path)\n",
        "    # Wav2Lip-generated video\n",
        "    wav2lip_video = cv2.VideoCapture(wav2lip_video_path)\n",
        "\n",
        "    frame_count = 0\n",
        "    total_error = 0\n",
        "\n",
        "    while True:\n",
        "        # Read frames from both videos\n",
        "        ret1, original_frame = original_video.read()\n",
        "        ret2, wav2lip_frame = wav2lip_video.read()\n",
        "\n",
        "        # Check if frames are successfully read\n",
        "        if not ret1 or not ret2:\n",
        "            break\n",
        "\n",
        "        # Preprocess frames if needed (resize, crop, extract lip region)\n",
        "\n",
        "        # Converting  frames to grayscale both original and wav2lip\n",
        "        original_gray = cv2.cvtColor(original_frame, cv2.COLOR_BGR2GRAY)\n",
        "        wav2lip_gray = cv2.cvtColor(wav2lip_frame, cv2.COLOR_BGR2GRAY)\n",
        "\n",
        "        # Calculate mean squared error (MSE) between the frames\n",
        "        error = np.mean(np.square(original_gray - wav2lip_gray))\n",
        "\n",
        "        # Accumulate total error\n",
        "        total_error += error\n",
        "        frame_count += 1\n",
        "\n",
        "    # Calculate mean lip-sync error\n",
        "\n",
        "\n",
        "    lip_sync_error = total_error / frame_count\n",
        "\n",
        "    # Release video objects\n",
        "    original_video.release()\n",
        "    wav2lip_video.release()\n",
        "\n",
        "    return lip_sync_error\n",
        "\n",
        "# Paths to the original and Wav2Lip-generated videos\n",
        "original_video_path = \"/content/sample_data/usctimit_mri_f1_421_425_withaudio.avi\"\n",
        "wav2lip_video_path = \"/content/sample_data/result_voice (6).mp4\"\n",
        "\n",
        "# Calculate lip-sync error between original and Wav2Lip videos\n",
        "lip_sync_error = calculate_lip_sync_error(original_video_path, wav2lip_video_path)\n",
        "\n",
        "print(\"Lip-sync error:\", lip_sync_error)\n"
      ],
      "metadata": {
        "colab": {
          "base_uri": "https://localhost:8080/"
        },
        "id": "mEquFURa9D5P",
        "outputId": "802be602-a2c1-4092-9fbe-db5941fe1a04"
      },
      "execution_count": null,
      "outputs": [
        {
          "output_type": "stream",
          "name": "stdout",
          "text": [
            "Lip-sync error: 28.796980019790418\n"
          ]
        }
      ]
    }
  ]
}